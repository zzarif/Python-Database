{
 "cells": [
  {
   "cell_type": "markdown",
   "metadata": {},
   "source": [
    "# Modules"
   ]
  },
  {
   "cell_type": "code",
   "execution_count": 1,
   "metadata": {},
   "outputs": [
    {
     "name": "stdout",
     "output_type": "stream",
     "text": [
      "<module 're' from 'C:\\\\Users\\\\zzami\\\\AppData\\\\Local\\\\Programs\\\\Python\\\\Python312\\\\Lib\\\\re\\\\__init__.py'>\n"
     ]
    }
   ],
   "source": [
    "import re\n",
    "my_regex = re.compile(\"[0-9]\", re.I)\n",
    "\n",
    "# re is a module\n",
    "print(re)"
   ]
  },
  {
   "cell_type": "code",
   "execution_count": 2,
   "metadata": {},
   "outputs": [
    {
     "name": "stdout",
     "output_type": "stream",
     "text": [
      "re is a string\n"
     ]
    }
   ],
   "source": [
    "# re is not a module anymore\n",
    "re = \"re is a string\"\n",
    "\n",
    "print(re)"
   ]
  },
  {
   "cell_type": "code",
   "execution_count": 3,
   "metadata": {},
   "outputs": [
    {
     "ename": "AttributeError",
     "evalue": "'str' object has no attribute 'compile'",
     "output_type": "error",
     "traceback": [
      "\u001b[1;31m---------------------------------------------------------------------------\u001b[0m",
      "\u001b[1;31mAttributeError\u001b[0m                            Traceback (most recent call last)",
      "Cell \u001b[1;32mIn[3], line 2\u001b[0m\n\u001b[0;32m      1\u001b[0m \u001b[38;5;66;03m# this would Not work (coz re is a string)\u001b[39;00m\n\u001b[1;32m----> 2\u001b[0m my_regex \u001b[38;5;241m=\u001b[39m \u001b[43mre\u001b[49m\u001b[38;5;241;43m.\u001b[39;49m\u001b[43mcompile\u001b[49m(\u001b[38;5;124m\"\u001b[39m\u001b[38;5;124m[0-9]\u001b[39m\u001b[38;5;124m\"\u001b[39m, re\u001b[38;5;241m.\u001b[39mI)\n",
      "\u001b[1;31mAttributeError\u001b[0m: 'str' object has no attribute 'compile'"
     ]
    }
   ],
   "source": [
    "# this would Not work (coz re is a string)\n",
    "my_regex = re.compile(\"[0-9]\", re.I)"
   ]
  },
  {
   "cell_type": "code",
   "execution_count": 4,
   "metadata": {},
   "outputs": [],
   "source": [
    "# use alias when importing\n",
    "import re as regex\n",
    "\n",
    "# now use this would work\n",
    "my_regex = regex.compile(\"[0-9]\", regex.I)"
   ]
  },
  {
   "cell_type": "code",
   "execution_count": 5,
   "metadata": {},
   "outputs": [],
   "source": [
    "# import specific classes from modules\n",
    "\n",
    "from collections import defaultdict, Counter\n",
    "\n",
    "lookup = defaultdict(int)\n",
    "my_counter = Counter()"
   ]
  },
  {
   "cell_type": "markdown",
   "metadata": {},
   "source": [
    "BAD Practice: ***DO NOT** import ALL from a module*"
   ]
  },
  {
   "cell_type": "code",
   "execution_count": 7,
   "metadata": {},
   "outputs": [
    {
     "name": "stdout",
     "output_type": "stream",
     "text": [
      "10\n",
      "<function match at 0x000002755BF796C0>\n"
     ]
    }
   ],
   "source": [
    "# match is an int\n",
    "match = 10\n",
    "print(match)\n",
    "\n",
    "# BAD boy imported everything from 're'\n",
    "from re import *\n",
    "\n",
    "# now 'match' is a fn\n",
    "print(match)"
   ]
  }
 ],
 "metadata": {
  "kernelspec": {
   "display_name": "venv",
   "language": "python",
   "name": "python3"
  },
  "language_info": {
   "codemirror_mode": {
    "name": "ipython",
    "version": 3
   },
   "file_extension": ".py",
   "mimetype": "text/x-python",
   "name": "python",
   "nbconvert_exporter": "python",
   "pygments_lexer": "ipython3",
   "version": "3.12.2"
  }
 },
 "nbformat": 4,
 "nbformat_minor": 2
}
