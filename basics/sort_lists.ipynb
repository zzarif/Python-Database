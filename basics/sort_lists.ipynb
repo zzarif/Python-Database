{
 "cells": [
  {
   "cell_type": "markdown",
   "metadata": {},
   "source": [
    "# Sorting Lists"
   ]
  },
  {
   "cell_type": "markdown",
   "metadata": {},
   "source": [
    "#### `sort()` function"
   ]
  },
  {
   "cell_type": "code",
   "execution_count": 3,
   "metadata": {},
   "outputs": [
    {
     "name": "stdout",
     "output_type": "stream",
     "text": [
      "[1, 0, -1, 2, 5, -2, 3, 1, -3]\n"
     ]
    }
   ],
   "source": [
    "x = [1, 0, -1, 2, 5, -2, 3, 1, -3]\n",
    "print(x)"
   ]
  },
  {
   "cell_type": "code",
   "execution_count": 4,
   "metadata": {},
   "outputs": [],
   "source": [
    "x.sort()"
   ]
  },
  {
   "cell_type": "markdown",
   "metadata": {},
   "source": [
    "`sort()` function sorts the list **in-place**."
   ]
  },
  {
   "cell_type": "code",
   "execution_count": 5,
   "metadata": {},
   "outputs": [
    {
     "name": "stdout",
     "output_type": "stream",
     "text": [
      "[-3, -2, -1, 0, 1, 1, 2, 3, 5]\n"
     ]
    }
   ],
   "source": [
    "print(x)"
   ]
  },
  {
   "cell_type": "markdown",
   "metadata": {},
   "source": [
    "#### `sorted()` function\n",
    "DOES **NOT** modify the original list. Creates a **copy** of the list"
   ]
  },
  {
   "cell_type": "code",
   "execution_count": 6,
   "metadata": {},
   "outputs": [],
   "source": [
    "x = [1, 0, -1, 2, 5, -2, 3, 1, -3]\n",
    "y = sorted(x)"
   ]
  },
  {
   "cell_type": "code",
   "execution_count": 7,
   "metadata": {},
   "outputs": [
    {
     "name": "stdout",
     "output_type": "stream",
     "text": [
      "[-3, -2, -1, 0, 1, 1, 2, 3, 5]\n"
     ]
    }
   ],
   "source": [
    "print(y)"
   ]
  },
  {
   "cell_type": "markdown",
   "metadata": {},
   "source": [
    "#### Sort **DESC**\n",
    "By default `sorted()` sorts the list in ASC order. To sort DESC we have to set `reverse=True`"
   ]
  },
  {
   "cell_type": "code",
   "execution_count": 8,
   "metadata": {},
   "outputs": [
    {
     "data": {
      "text/plain": [
       "[5, 3, 2, 1, 1, 0, -1, -2, -3]"
      ]
     },
     "execution_count": 8,
     "metadata": {},
     "output_type": "execute_result"
    }
   ],
   "source": [
    "y = sorted(x, reverse=True)\n",
    "y"
   ]
  },
  {
   "cell_type": "markdown",
   "metadata": {},
   "source": [
    "#### Advanced Sorting"
   ]
  },
  {
   "cell_type": "markdown",
   "metadata": {},
   "source": [
    "Say, given a string, get the top 5 most occurent chars.\n",
    "\n",
    "Approach:\n",
    "- Get the char counts\n",
    "- Sort the chars by count (DESC)\n",
    "- If multiple char count same:\n",
    "  - then sort chars alphabetically (ASC)"
   ]
  },
  {
   "cell_type": "code",
   "execution_count": 25,
   "metadata": {},
   "outputs": [],
   "source": [
    "s = \"https://zzarif.github.io\"\n",
    "s = ''.join([c for c in list(s) if c.isalpha()]) # remove special chars"
   ]
  },
  {
   "cell_type": "code",
   "execution_count": 30,
   "metadata": {},
   "outputs": [
    {
     "data": {
      "text/plain": [
       "[('i', 3), ('t', 3), ('h', 2), ('z', 2), ('a', 1)]"
      ]
     },
     "execution_count": 30,
     "metadata": {},
     "output_type": "execute_result"
    }
   ],
   "source": [
    "from collections import Counter\n",
    "\n",
    "char_counts = Counter(s).most_common()\n",
    "\n",
    "char_counts = sorted(char_counts, key=lambda tp: (tp[1] * -1, tp[0]))\n",
    "\n",
    "char_counts[:5]"
   ]
  },
  {
   "cell_type": "markdown",
   "metadata": {},
   "source": [
    "`key` takes a *fn* as an argument. The *fn* defines *\"how to sort\"* the list. \n",
    "\n",
    "In our case, the anonymous `lambda` fn:\n",
    "- reads each `tp` (tuple) from `char_counts` list\n",
    "- At first, it checks the second value, i.e. char count (`tp[1]`) and sorts it DESC (`* -1`)\n",
    "- Then, if char count is same, it checks the first value, i.e. the char itself (`tp[0]`) and sorts it ASC"
   ]
  }
 ],
 "metadata": {
  "kernelspec": {
   "display_name": "venv",
   "language": "python",
   "name": "python3"
  },
  "language_info": {
   "codemirror_mode": {
    "name": "ipython",
    "version": 3
   },
   "file_extension": ".py",
   "mimetype": "text/x-python",
   "name": "python",
   "nbconvert_exporter": "python",
   "pygments_lexer": "ipython3",
   "version": "3.12.2"
  }
 },
 "nbformat": 4,
 "nbformat_minor": 2
}
