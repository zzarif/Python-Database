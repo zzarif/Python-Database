{
 "cells": [
  {
   "cell_type": "markdown",
   "metadata": {},
   "source": [
    "# Functions"
   ]
  },
  {
   "cell_type": "code",
   "execution_count": 1,
   "metadata": {},
   "outputs": [],
   "source": [
    "def myfunc(x):\n",
    "    return x + 2"
   ]
  },
  {
   "cell_type": "markdown",
   "metadata": {},
   "source": [
    "Python functions are **first-class**, which means that we can assign them to variables and pass them into functions just like any other arguments."
   ]
  },
  {
   "cell_type": "code",
   "execution_count": 6,
   "metadata": {},
   "outputs": [
    {
     "name": "stdout",
     "output_type": "stream",
     "text": [
      "25\n"
     ]
    }
   ],
   "source": [
    "# this fn takes another fn reference as parameter\n",
    "def apply_some_func(func):\n",
    "    return func(5)\n",
    "\n",
    "\n",
    "# this fn returns the square of a number\n",
    "def square(num):\n",
    "    return num ** 2\n",
    "\n",
    "\n",
    "# assign 'square' fn to a variable\n",
    "some_func = square\n",
    "\n",
    "\n",
    "# 'apply_some_func' applies 'some_func'\n",
    "y = apply_some_func(some_func)\n",
    "print(y)"
   ]
  },
  {
   "cell_type": "markdown",
   "metadata": {},
   "source": [
    "**Lambdas** (Anonymous functions)"
   ]
  },
  {
   "cell_type": "code",
   "execution_count": 8,
   "metadata": {},
   "outputs": [
    {
     "name": "stdout",
     "output_type": "stream",
     "text": [
      "25\n"
     ]
    }
   ],
   "source": [
    "# we'll do the same operations\n",
    "# but with lambda functions\n",
    "some_func = lambda x: x ** 2\n",
    "y = apply_some_func(some_func)\n",
    "print(y)"
   ]
  },
  {
   "cell_type": "code",
   "execution_count": 9,
   "metadata": {},
   "outputs": [
    {
     "name": "stdout",
     "output_type": "stream",
     "text": [
      "25\n"
     ]
    }
   ],
   "source": [
    "# or we can do it even shortly\n",
    "y = apply_some_func(lambda x: x ** 2)\n",
    "print(y)"
   ]
  },
  {
   "cell_type": "markdown",
   "metadata": {},
   "source": [
    "Python default args"
   ]
  },
  {
   "cell_type": "code",
   "execution_count": 10,
   "metadata": {},
   "outputs": [
    {
     "name": "stdout",
     "output_type": "stream",
     "text": [
      "Hello, World!\n",
      "my deafult message\n"
     ]
    }
   ],
   "source": [
    "def my_print(message = \"my deafult message\"):\n",
    "    print(message)\n",
    "\n",
    "\n",
    "my_print(\"Hello, World!\")\n",
    "my_print()"
   ]
  }
 ],
 "metadata": {
  "kernelspec": {
   "display_name": "venv",
   "language": "python",
   "name": "python3"
  },
  "language_info": {
   "codemirror_mode": {
    "name": "ipython",
    "version": 3
   },
   "file_extension": ".py",
   "mimetype": "text/x-python",
   "name": "python",
   "nbconvert_exporter": "python",
   "pygments_lexer": "ipython3",
   "version": "3.12.2"
  }
 },
 "nbformat": 4,
 "nbformat_minor": 2
}
