{
 "cells": [
  {
   "cell_type": "markdown",
   "metadata": {},
   "source": [
    "# set(Sets)"
   ]
  },
  {
   "cell_type": "code",
   "execution_count": 1,
   "metadata": {},
   "outputs": [
    {
     "name": "stdout",
     "output_type": "stream",
     "text": [
      "{1, 2, 3}\n"
     ]
    }
   ],
   "source": [
    "s = {} # DO NOT use, reserved for dicts\n",
    "\n",
    "s = set() # correct way\n",
    "\n",
    "s.add(1)\n",
    "s.add(2)\n",
    "s.add(3)\n",
    "\n",
    "print(s)"
   ]
  },
  {
   "cell_type": "markdown",
   "metadata": {},
   "source": [
    "Sets ***CANNOT*** have duplicate elements"
   ]
  },
  {
   "cell_type": "code",
   "execution_count": 8,
   "metadata": {},
   "outputs": [
    {
     "name": "stdout",
     "output_type": "stream",
     "text": [
      "{4, 5, 6, 7, -1}\n"
     ]
    }
   ],
   "source": [
    "s = set([4, 5, 6, -1, 4, 7, 5])\n",
    "print(s)"
   ]
  },
  {
   "cell_type": "markdown",
   "metadata": {},
   "source": [
    "### Sets are very important for checking\n",
    "- #### if element exists\n",
    "- #### if element is duplicate"
   ]
  },
  {
   "cell_type": "code",
   "execution_count": 11,
   "metadata": {},
   "outputs": [
    {
     "name": "stdout",
     "output_type": "stream",
     "text": [
      "-2 exists in list? False\n",
      "Duplicate 1 found on index 3.\n"
     ]
    }
   ],
   "source": [
    "my_list = [1, 2, -3, 1, 3, 4, 3]\n",
    "\n",
    "# check if element exists\n",
    "print(f\"-2 exists in list? {-2 in set(my_list)}\")\n",
    "\n",
    "# check for duplicates\n",
    "my_set = set()\n",
    "for idx, item in enumerate(my_list):\n",
    "    if item in my_set:\n",
    "        print(f\"Duplicate {item} found on index {idx}.\")\n",
    "        break\n",
    "    else:\n",
    "        my_set.add(item)"
   ]
  }
 ],
 "metadata": {
  "kernelspec": {
   "display_name": "venv",
   "language": "python",
   "name": "python3"
  },
  "language_info": {
   "codemirror_mode": {
    "name": "ipython",
    "version": 3
   },
   "file_extension": ".py",
   "mimetype": "text/x-python",
   "name": "python",
   "nbconvert_exporter": "python",
   "pygments_lexer": "ipython3",
   "version": "3.12.2"
  }
 },
 "nbformat": 4,
 "nbformat_minor": 2
}
