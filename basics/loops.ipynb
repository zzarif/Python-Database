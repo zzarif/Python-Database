{
 "cells": [
  {
   "cell_type": "markdown",
   "metadata": {},
   "source": [
    "# Loops (for-while)"
   ]
  },
  {
   "cell_type": "markdown",
   "metadata": {},
   "source": [
    "#### `for` loop"
   ]
  },
  {
   "cell_type": "code",
   "execution_count": 5,
   "metadata": {},
   "outputs": [
    {
     "name": "stdout",
     "output_type": "stream",
     "text": [
      "0 1 2 3 4 5 6 7 8 9 "
     ]
    }
   ],
   "source": [
    "for i in range(10):\n",
    "    print(i, end=' ')"
   ]
  },
  {
   "cell_type": "code",
   "execution_count": 7,
   "metadata": {},
   "outputs": [
    {
     "name": "stdout",
     "output_type": "stream",
     "text": [
      "a b c d e f g h i j "
     ]
    }
   ],
   "source": [
    "elements = ['a', 'b', 'c', 'd', 'e', 'f', 'g', 'h', 'i', 'j']\n",
    "\n",
    "for elem in elements:\n",
    "    print(elem, end=' ')"
   ]
  },
  {
   "cell_type": "code",
   "execution_count": 8,
   "metadata": {},
   "outputs": [
    {
     "name": "stdout",
     "output_type": "stream",
     "text": [
      "pos=0, elem=a\n",
      "pos=1, elem=b\n",
      "pos=2, elem=c\n",
      "pos=3, elem=d\n",
      "pos=4, elem=e\n",
      "pos=5, elem=f\n",
      "pos=6, elem=g\n",
      "pos=7, elem=h\n",
      "pos=8, elem=i\n",
      "pos=9, elem=j\n"
     ]
    }
   ],
   "source": [
    "for idx, elem in enumerate(elements):\n",
    "    print(f\"pos={idx}, elem={elem}\")"
   ]
  },
  {
   "cell_type": "code",
   "execution_count": 9,
   "metadata": {},
   "outputs": [],
   "source": [
    "bio = \"\"\"\n",
    "Hi, I'm Zibran Zarif Amio. I specialize in Machine Learning with Python.\n",
    "I built ReplyMind Chrome Extension from scratch. Follow me on GitHub and\n",
    "YouTube to get updates on my latest projects.\n",
    "\"\"\""
   ]
  },
  {
   "cell_type": "markdown",
   "metadata": {},
   "source": [
    "#### `break`"
   ]
  },
  {
   "cell_type": "code",
   "execution_count": 16,
   "metadata": {},
   "outputs": [
    {
     "name": "stdout",
     "output_type": "stream",
     "text": [
      "0 -> Whatda Hi,\n",
      "1 -> Whatda I'm\n",
      "2 -> Whatda Zibran\n",
      "3 -> Whatda Zarif\n",
      "4 -> Whatda Amio.\n",
      "5 -> Whatda I\n",
      "6 -> Whatda specialize\n",
      "7 -> Whatda in\n",
      "8 -> Whatda Machine\n",
      "9 -> Whatda Learning\n",
      "10 -> Whatda with\n",
      "11 -> Whatda Python.\n",
      "12 -> Whatda I\n",
      "13 -> Whatda built\n"
     ]
    }
   ],
   "source": [
    "for idx, word in enumerate(bio.split()):\n",
    "    print(f\"{idx} -> Whatda {word}\")\n",
    "    if word == \"built\":\n",
    "        break"
   ]
  },
  {
   "cell_type": "markdown",
   "metadata": {},
   "source": [
    "#### `continue`"
   ]
  },
  {
   "cell_type": "code",
   "execution_count": 18,
   "metadata": {},
   "outputs": [
    {
     "name": "stdout",
     "output_type": "stream",
     "text": [
      "0 -> Whatda Hi,\n",
      "1 -> Whatda I'm\n",
      "2 -> Whatda Zibran\n",
      "3 -> Whatda Zarif\n",
      "4 -> Whatda Amio.\n",
      "5 -> Whatda I\n",
      "6 -> Whatda specialize\n",
      "7 -> Whatda in\n",
      "8 -> Whatda Machine\n",
      "9 -> Whatda Learning\n",
      "10 -> Whatda with\n",
      "11 -> Whatda Python.\n",
      "12 -> Whatda I\n",
      "13 -> Whatda built\n"
     ]
    }
   ],
   "source": [
    "for idx, word in enumerate(bio.split()):\n",
    "    if idx > 13:\n",
    "        continue\n",
    "    print(f\"{idx} -> Whatda {word}\")"
   ]
  },
  {
   "cell_type": "markdown",
   "metadata": {},
   "source": [
    "#### `while` loop"
   ]
  },
  {
   "cell_type": "code",
   "execution_count": 20,
   "metadata": {},
   "outputs": [
    {
     "name": "stdout",
     "output_type": "stream",
     "text": [
      "0 1 2 3 4 5 6 7 8 9 "
     ]
    }
   ],
   "source": [
    "i = 0\n",
    "\n",
    "while i < 10:\n",
    "    print(i, end=' ')\n",
    "    i += 1"
   ]
  }
 ],
 "metadata": {
  "kernelspec": {
   "display_name": "venv",
   "language": "python",
   "name": "python3"
  },
  "language_info": {
   "codemirror_mode": {
    "name": "ipython",
    "version": 3
   },
   "file_extension": ".py",
   "mimetype": "text/x-python",
   "name": "python",
   "nbconvert_exporter": "python",
   "pygments_lexer": "ipython3",
   "version": "3.12.2"
  }
 },
 "nbformat": 4,
 "nbformat_minor": 2
}
