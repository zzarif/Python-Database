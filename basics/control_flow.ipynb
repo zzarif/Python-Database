{
 "cells": [
  {
   "cell_type": "markdown",
   "metadata": {},
   "source": [
    "# Control Flow (if-else)"
   ]
  },
  {
   "cell_type": "markdown",
   "metadata": {},
   "source": [
    "Given a `num`:\n",
    "- print \"Fizz\" if `num` is divisible by `3`\n",
    "- print \"Buzz\" if `num` is divisible by `5`\n",
    "- print both if divisible by both"
   ]
  },
  {
   "cell_type": "code",
   "execution_count": 12,
   "metadata": {},
   "outputs": [
    {
     "name": "stdout",
     "output_type": "stream",
     "text": [
      "FizzBuzz\n"
     ]
    }
   ],
   "source": [
    "num = 15\n",
    "\n",
    "if num % 3 == 0 and num % 5 == 0:\n",
    "    print(\"FizzBuzz\")\n",
    "elif num % 3 == 0:\n",
    "    print(\"Fizz\")\n",
    "elif num % 5 == 0:\n",
    "    print(\"Buzz\")"
   ]
  },
  {
   "cell_type": "markdown",
   "metadata": {},
   "source": [
    "Note: This is actually a naive solution to the \"FizzBuzz\" problem to demostrate control flow. There is actually a cleaner approach."
   ]
  },
  {
   "cell_type": "code",
   "execution_count": 14,
   "metadata": {},
   "outputs": [
    {
     "name": "stdout",
     "output_type": "stream",
     "text": [
      "FizzBuzz\n"
     ]
    }
   ],
   "source": [
    "num = 105\n",
    "\n",
    "result = \"\"\n",
    "\n",
    "if num % 3 == 0:\n",
    "    result += \"Fizz\"\n",
    "if num % 5 == 0:\n",
    "    result += \"Buzz\"\n",
    "\n",
    "print(result)"
   ]
  },
  {
   "cell_type": "markdown",
   "metadata": {},
   "source": [
    "#### Truthiness"
   ]
  },
  {
   "cell_type": "markdown",
   "metadata": {},
   "source": [
    "Python considers all of these as ***falsy***:\n",
    "- `False`\n",
    "- `None`\n",
    "- `[]` (empty list)\n",
    "- `{}` (empty dict)\n",
    "- `\"\"`\n",
    "- `set()`\n",
    "- `0`\n",
    "- `0.0`\n",
    "\n",
    "Anything other these are considered `True` (***truthy***)"
   ]
  },
  {
   "cell_type": "code",
   "execution_count": 20,
   "metadata": {},
   "outputs": [
    {
     "name": "stdout",
     "output_type": "stream",
     "text": [
      "I will be printed.\n"
     ]
    }
   ],
   "source": [
    "if False or None or [] or {} or \"\" or set() or 0 or 0.0:\n",
    "    print(\"You will never see me printed.\")\n",
    "else:\n",
    "    print(\"I will be printed.\")"
   ]
  },
  {
   "cell_type": "markdown",
   "metadata": {},
   "source": [
    "#### `and` returns the last value\n",
    "\n",
    "val1 *and* val2 *and* val3 ... *and* **valn**\n",
    "\n",
    "will always return **valn**"
   ]
  },
  {
   "cell_type": "code",
   "execution_count": 30,
   "metadata": {},
   "outputs": [
    {
     "name": "stdout",
     "output_type": "stream",
     "text": [
      "4.67\n"
     ]
    }
   ],
   "source": [
    "expression = \"Somer\" and 25 and [1, 2, 3] and 4.67\n",
    "print(expression)"
   ]
  },
  {
   "cell_type": "markdown",
   "metadata": {},
   "source": [
    "#### `or` returns the first value\n",
    "\n",
    "**val1** *or* val2 *or* val3 ... *or* valn\n",
    "\n",
    "will always return **val1**"
   ]
  },
  {
   "cell_type": "code",
   "execution_count": 29,
   "metadata": {},
   "outputs": [
    {
     "name": "stdout",
     "output_type": "stream",
     "text": [
      "Somer\n"
     ]
    }
   ],
   "source": [
    "expression = \"Somer\" or 25 or [1, 2, 3] or 4.67\n",
    "print(expression)"
   ]
  },
  {
   "cell_type": "markdown",
   "metadata": {},
   "source": [
    "`all()` -> returns `True` if **ALL** elements are truthy\n",
    "\n",
    "`any()` -> returns `True` if **at least one** element is truthy"
   ]
  },
  {
   "cell_type": "code",
   "execution_count": 34,
   "metadata": {},
   "outputs": [
    {
     "data": {
      "text/plain": [
       "True"
      ]
     },
     "execution_count": 34,
     "metadata": {},
     "output_type": "execute_result"
    }
   ],
   "source": [
    "all([\"Somer\", 25, [1, 2, 3], 4.67])     # ALL are truthy"
   ]
  },
  {
   "cell_type": "code",
   "execution_count": 35,
   "metadata": {},
   "outputs": [
    {
     "data": {
      "text/plain": [
       "True"
      ]
     },
     "execution_count": 35,
     "metadata": {},
     "output_type": "execute_result"
    }
   ],
   "source": [
    "\n",
    "any([\"\", {}, [], set(), 0.01])      # 0.01 is truthy"
   ]
  }
 ],
 "metadata": {
  "kernelspec": {
   "display_name": "venv",
   "language": "python",
   "name": "python3"
  },
  "language_info": {
   "codemirror_mode": {
    "name": "ipython",
    "version": 3
   },
   "file_extension": ".py",
   "mimetype": "text/x-python",
   "name": "python",
   "nbconvert_exporter": "python",
   "pygments_lexer": "ipython3",
   "version": "3.12.2"
  }
 },
 "nbformat": 4,
 "nbformat_minor": 2
}
