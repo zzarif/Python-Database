{
 "cells": [
  {
   "cell_type": "markdown",
   "metadata": {},
   "source": [
    "# Collections module in Python"
   ]
  },
  {
   "cell_type": "code",
   "execution_count": 12,
   "metadata": {},
   "outputs": [],
   "source": [
    "bio = \"\"\"\n",
    "Hi, I'm Zibran Zarif Amio. I specialize in Machine Learning with Python.\n",
    "I built ReplyMind Chrome Extension from scratch. Follow me on GitHub and\n",
    "YouTube to get updates on my latest projects.\n",
    "\"\"\""
   ]
  },
  {
   "cell_type": "markdown",
   "metadata": {},
   "source": [
    "Say, we have to count the number of words in this bio. We can use dictionaries like this:"
   ]
  },
  {
   "cell_type": "code",
   "execution_count": 13,
   "metadata": {},
   "outputs": [
    {
     "name": "stdout",
     "output_type": "stream",
     "text": [
      "{'Hi,': 1, \"I'm\": 1, 'Zibran': 1, 'Zarif': 1, 'Amio.': 1, 'I': 2, 'specialize': 1, 'in': 1, 'Machine': 1, 'Learning': 1, 'with': 1, 'Python.': 1, 'built': 1, 'ReplyMind': 1, 'Chrome': 1, 'Extension': 1, 'from': 1, 'scratch.': 1, 'Follow': 1, 'me': 1, 'on': 2, 'GitHub': 1, 'and': 1, 'YouTube': 1, 'to': 1, 'get': 1, 'updates': 1, 'my': 1, 'latest': 1, 'projects.': 1}\n"
     ]
    }
   ],
   "source": [
    "word_counts = {}\n",
    "\n",
    "for word in bio.split():\n",
    "    if word in word_counts:\n",
    "        word_counts[word] += 1\n",
    "    else:\n",
    "        word_counts[word] = 1\n",
    "\n",
    "print(word_counts)"
   ]
  },
  {
   "cell_type": "markdown",
   "metadata": {},
   "source": [
    "An alternative approach may be something like this:"
   ]
  },
  {
   "cell_type": "code",
   "execution_count": 14,
   "metadata": {},
   "outputs": [
    {
     "name": "stdout",
     "output_type": "stream",
     "text": [
      "{'Hi,': 1, \"I'm\": 1, 'Zibran': 1, 'Zarif': 1, 'Amio.': 1, 'I': 2, 'specialize': 1, 'in': 1, 'Machine': 1, 'Learning': 1, 'with': 1, 'Python.': 1, 'built': 1, 'ReplyMind': 1, 'Chrome': 1, 'Extension': 1, 'from': 1, 'scratch.': 1, 'Follow': 1, 'me': 1, 'on': 2, 'GitHub': 1, 'and': 1, 'YouTube': 1, 'to': 1, 'get': 1, 'updates': 1, 'my': 1, 'latest': 1, 'projects.': 1}\n"
     ]
    }
   ],
   "source": [
    "word_counts = {}\n",
    "\n",
    "for word in bio.split():\n",
    "    prev_count = word_counts.get(word, 0)\n",
    "    word_counts[word] = prev_count + 1\n",
    "\n",
    "print(word_counts)"
   ]
  },
  {
   "cell_type": "markdown",
   "metadata": {},
   "source": [
    "In both of these approaches, we have to initialize each key's value as 0. Then increment as we go on. What if we could provide a default value for each key without having to initialize it every time."
   ]
  },
  {
   "cell_type": "markdown",
   "metadata": {},
   "source": [
    "#### `defaultdict`"
   ]
  },
  {
   "cell_type": "code",
   "execution_count": 15,
   "metadata": {},
   "outputs": [],
   "source": [
    "from collections import defaultdict\n",
    "\n",
    "word_counts = defaultdict(int)          # int() produces 0\n",
    "\n",
    "for word in bio.split():\n",
    "    word_counts[word] += 1"
   ]
  },
  {
   "cell_type": "markdown",
   "metadata": {},
   "source": [
    "#### `Counter`\n",
    "We could actually just use a one-liner to do the job :):)"
   ]
  },
  {
   "cell_type": "code",
   "execution_count": 16,
   "metadata": {},
   "outputs": [],
   "source": [
    "from collections import Counter\n",
    "\n",
    "word_counts = Counter(bio.split())"
   ]
  },
  {
   "cell_type": "code",
   "execution_count": 17,
   "metadata": {},
   "outputs": [
    {
     "name": "stdout",
     "output_type": "stream",
     "text": [
      "Counter({'I': 2, 'on': 2, 'Hi,': 1, \"I'm\": 1, 'Zibran': 1, 'Zarif': 1, 'Amio.': 1, 'specialize': 1, 'in': 1, 'Machine': 1, 'Learning': 1, 'with': 1, 'Python.': 1, 'built': 1, 'ReplyMind': 1, 'Chrome': 1, 'Extension': 1, 'from': 1, 'scratch.': 1, 'Follow': 1, 'me': 1, 'GitHub': 1, 'and': 1, 'YouTube': 1, 'to': 1, 'get': 1, 'updates': 1, 'my': 1, 'latest': 1, 'projects.': 1})\n"
     ]
    }
   ],
   "source": [
    "print(word_counts)"
   ]
  },
  {
   "cell_type": "markdown",
   "metadata": {},
   "source": [
    "#### `Counter().most_common()`\n",
    "Get most frequent tokens"
   ]
  },
  {
   "cell_type": "code",
   "execution_count": 20,
   "metadata": {},
   "outputs": [
    {
     "name": "stdout",
     "output_type": "stream",
     "text": [
      "[('I', 2), ('on', 2), ('Hi,', 1), (\"I'm\", 1), ('Zibran', 1)]\n"
     ]
    }
   ],
   "source": [
    "print(word_counts.most_common(5)) # returns 5 most frequent tokens"
   ]
  }
 ],
 "metadata": {
  "kernelspec": {
   "display_name": "venv",
   "language": "python",
   "name": "python3"
  },
  "language_info": {
   "codemirror_mode": {
    "name": "ipython",
    "version": 3
   },
   "file_extension": ".py",
   "mimetype": "text/x-python",
   "name": "python",
   "nbconvert_exporter": "python",
   "pygments_lexer": "ipython3",
   "version": "3.12.2"
  }
 },
 "nbformat": 4,
 "nbformat_minor": 2
}
