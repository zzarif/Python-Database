{
 "cells": [
  {
   "cell_type": "markdown",
   "metadata": {},
   "source": [
    "# Strings"
   ]
  },
  {
   "cell_type": "code",
   "execution_count": 2,
   "metadata": {},
   "outputs": [
    {
     "name": "stdout",
     "output_type": "stream",
     "text": [
      "Hi, I'm Zibran Zarif Amio\n"
     ]
    }
   ],
   "source": [
    "my_string = \"Hi, I'm Zibran Zarif Amio\"\n",
    "print(my_string)"
   ]
  },
  {
   "cell_type": "markdown",
   "metadata": {},
   "source": [
    "Encode special chars in string"
   ]
  },
  {
   "cell_type": "code",
   "execution_count": 3,
   "metadata": {},
   "outputs": [
    {
     "name": "stdout",
     "output_type": "stream",
     "text": [
      "Hi, I'm \n",
      "\"Zibran Zarif Amio\"\n"
     ]
    }
   ],
   "source": [
    "my_string = \"Hi, I'm \\n\\\"Zibran Zarif Amio\\\"\"\n",
    "print(my_string)"
   ]
  },
  {
   "cell_type": "markdown",
   "metadata": {},
   "source": [
    "Raw string (keep special chars as it is)"
   ]
  },
  {
   "cell_type": "code",
   "execution_count": 4,
   "metadata": {},
   "outputs": [
    {
     "name": "stdout",
     "output_type": "stream",
     "text": [
      "Hi, I'm \\n\\\"Zibran Zarif Amio\\\"\n"
     ]
    }
   ],
   "source": [
    "my_string = r\"Hi, I'm \\n\\\"Zibran Zarif Amio\\\"\"\n",
    "print(my_string)"
   ]
  },
  {
   "cell_type": "markdown",
   "metadata": {},
   "source": [
    "Multiline string"
   ]
  },
  {
   "cell_type": "code",
   "execution_count": 5,
   "metadata": {},
   "outputs": [
    {
     "name": "stdout",
     "output_type": "stream",
     "text": [
      "\n",
      "Hi, I'm\n",
      "\"Zibran Zarif Amio\",\n",
      "I specialize in Python.\n",
      "Nice to meet you.\n",
      "\n"
     ]
    }
   ],
   "source": [
    "my_string = \"\"\"\n",
    "Hi, I'm\n",
    "\"Zibran Zarif Amio\",\n",
    "I specialize in Python.\n",
    "Nice to meet you.\n",
    "\"\"\"\n",
    "print(my_string)"
   ]
  },
  {
   "cell_type": "markdown",
   "metadata": {},
   "source": [
    "***f-string*** (format string)"
   ]
  },
  {
   "cell_type": "code",
   "execution_count": 6,
   "metadata": {},
   "outputs": [
    {
     "name": "stdout",
     "output_type": "stream",
     "text": [
      "Hi, I'm Zibran Zarif Amio. My BMI is 24.568\n"
     ]
    }
   ],
   "source": [
    "first_name = \"Zibran Zarif\"\n",
    "last_name = \"Amio\"\n",
    "bmi = 24.56772353824\n",
    "my_string = f\"Hi, I'm {first_name} {last_name}. My BMI is {bmi:.3f}\"\n",
    "print(my_string)"
   ]
  }
 ],
 "metadata": {
  "kernelspec": {
   "display_name": "venv",
   "language": "python",
   "name": "python3"
  },
  "language_info": {
   "codemirror_mode": {
    "name": "ipython",
    "version": 3
   },
   "file_extension": ".py",
   "mimetype": "text/x-python",
   "name": "python",
   "nbconvert_exporter": "python",
   "pygments_lexer": "ipython3",
   "version": "3.12.2"
  }
 },
 "nbformat": 4,
 "nbformat_minor": 2
}
