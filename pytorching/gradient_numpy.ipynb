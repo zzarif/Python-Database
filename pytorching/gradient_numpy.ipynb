{
 "cells": [
  {
   "cell_type": "markdown",
   "metadata": {},
   "source": [
    "## Gradient with Numpy (Manual)"
   ]
  },
  {
   "cell_type": "code",
   "execution_count": 1,
   "metadata": {},
   "outputs": [],
   "source": [
    "import numpy as np"
   ]
  },
  {
   "cell_type": "code",
   "execution_count": 2,
   "metadata": {},
   "outputs": [],
   "source": [
    "X = np.array([1, 2, 3, 4], dtype=np.float32) # features\n",
    "Y = np.array([2, 4, 6, 8], dtype=np.float32) # ground truth"
   ]
  },
  {
   "cell_type": "markdown",
   "metadata": {},
   "source": [
    "By seeing the input (X) and output (Y), we can clearly see their relation is `Y = 2 * X`\n",
    "\n",
    "But the model does not know this. It only sees the relation as `Y = w * X`\n",
    "\n",
    "It has to train itself to figure out the optimum value of `w` that minimizes the loss.\n",
    "\n",
    "We initialize the `w` at a random value."
   ]
  },
  {
   "cell_type": "code",
   "execution_count": 3,
   "metadata": {},
   "outputs": [],
   "source": [
    "w = 0.0"
   ]
  },
  {
   "cell_type": "markdown",
   "metadata": {},
   "source": [
    "Model training happens in iterations (epochs). Each epoch looks like the following:\n",
    "- `forward()` pass that utilizes the random value of `w` to calculate the predicted value of Y (`y_pred`)\n",
    "- Then loss is calculated via `calculate_loss()` method (`y - y_pred`)\n",
    "- `backward()` pass that calculates gradients of the loss wrt `w` via `gradient()` method\n",
    "- finally, the gradient is used to update the value of `w`\n",
    "\n",
    "Gradient tells the condition of the weight, whether its approaching its optimum value or not.\n",
    "\n",
    "We'll create the methods ourselves."
   ]
  },
  {
   "cell_type": "code",
   "execution_count": 4,
   "metadata": {},
   "outputs": [],
   "source": [
    "# model prediction\n",
    "def forward(x):\n",
    "    return w * x\n",
    "\n",
    "# loss = MSE\n",
    "def calculate_loss(y, y_pred):\n",
    "    return ((y - y_pred) ** 2).mean()\n",
    "\n",
    "# gradient\n",
    "# MSE = 1/N * (w*x - y)**2\n",
    "# dL/dw = 1/N * 2 * x * (w*x - y)\n",
    "def gradient(x, y, y_pred):\n",
    "    return np.dot(2*x, y_pred - y).mean()"
   ]
  },
  {
   "cell_type": "code",
   "execution_count": 5,
   "metadata": {},
   "outputs": [
    {
     "name": "stdout",
     "output_type": "stream",
     "text": [
      "Prediction before training: f(5) = 0.000\n"
     ]
    }
   ],
   "source": [
    "print(f\"Prediction before training: f(5) = {forward(5):.3f}\")"
   ]
  },
  {
   "cell_type": "markdown",
   "metadata": {},
   "source": [
    "It should be `f(5) = 10.000`, but since `w = 0.0`, we get `y_pred = 0.0 * x = 0.0`\n",
    "\n",
    "Now we need to train the model to adjust this `w` minimizing the loss"
   ]
  },
  {
   "cell_type": "code",
   "execution_count": 6,
   "metadata": {},
   "outputs": [],
   "source": [
    "learning_rate = 0.01 # step size\n",
    "epochs = 10 # num of iterations"
   ]
  },
  {
   "cell_type": "code",
   "execution_count": 7,
   "metadata": {},
   "outputs": [
    {
     "name": "stdout",
     "output_type": "stream",
     "text": [
      "epoch 1: w = 1.200, loss = 30.000\n",
      "epoch 2: w = 1.680, loss = 4.800\n",
      "epoch 3: w = 1.872, loss = 0.768\n",
      "epoch 4: w = 1.949, loss = 0.123\n",
      "epoch 5: w = 1.980, loss = 0.020\n",
      "epoch 6: w = 1.992, loss = 0.003\n",
      "epoch 7: w = 1.997, loss = 0.001\n",
      "epoch 8: w = 1.999, loss = 0.000\n",
      "epoch 9: w = 1.999, loss = 0.000\n",
      "epoch 10: w = 2.000, loss = 0.000\n"
     ]
    }
   ],
   "source": [
    "# training loop:\n",
    "for epoch in range(epochs):\n",
    "    # forward pass to calculate predicted output\n",
    "    y_pred = forward(X) \n",
    "\n",
    "    # calculate the loss\n",
    "    loss = calculate_loss(Y, y_pred)\n",
    "\n",
    "    # calculate the gradient\n",
    "    dw = gradient(X, Y, y_pred)\n",
    "\n",
    "    # adjust weight\n",
    "    w -= learning_rate * dw\n",
    "\n",
    "    print(f\"epoch {epoch + 1}: w = {w:.3f}, loss = {loss:.3f}\")"
   ]
  },
  {
   "cell_type": "markdown",
   "metadata": {},
   "source": [
    "Let's test it with inference"
   ]
  },
  {
   "cell_type": "code",
   "execution_count": 8,
   "metadata": {},
   "outputs": [
    {
     "name": "stdout",
     "output_type": "stream",
     "text": [
      "Prediction after training: f(5) = 9.999\n"
     ]
    }
   ],
   "source": [
    "print(f\"Prediction after training: f(5) = {forward(5):.3f}\")"
   ]
  },
  {
   "cell_type": "markdown",
   "metadata": {},
   "source": [
    "The model minimized the error to `0.0` and found the optimum weight `w = 2.000`\n",
    "\n",
    "But you see, the prediction was `9.999`. The model can actually do better if we increase number of training `epochs`\n",
    "\n",
    "Let's double it."
   ]
  },
  {
   "cell_type": "code",
   "execution_count": 9,
   "metadata": {},
   "outputs": [
    {
     "name": "stdout",
     "output_type": "stream",
     "text": [
      "epoch 1: w = 2.000, loss = 0.000\n",
      "epoch 2: w = 2.000, loss = 0.000\n",
      "epoch 3: w = 2.000, loss = 0.000\n",
      "epoch 4: w = 2.000, loss = 0.000\n",
      "epoch 5: w = 2.000, loss = 0.000\n",
      "epoch 6: w = 2.000, loss = 0.000\n",
      "epoch 7: w = 2.000, loss = 0.000\n",
      "epoch 8: w = 2.000, loss = 0.000\n",
      "epoch 9: w = 2.000, loss = 0.000\n",
      "epoch 10: w = 2.000, loss = 0.000\n",
      "epoch 11: w = 2.000, loss = 0.000\n",
      "epoch 12: w = 2.000, loss = 0.000\n",
      "epoch 13: w = 2.000, loss = 0.000\n",
      "epoch 14: w = 2.000, loss = 0.000\n",
      "epoch 15: w = 2.000, loss = 0.000\n",
      "epoch 16: w = 2.000, loss = 0.000\n",
      "epoch 17: w = 2.000, loss = 0.000\n",
      "epoch 18: w = 2.000, loss = 0.000\n",
      "epoch 19: w = 2.000, loss = 0.000\n",
      "epoch 20: w = 2.000, loss = 0.000\n",
      "Prediction after training: f(5) = 10.000\n"
     ]
    }
   ],
   "source": [
    "learning_rate = 0.01 # step size\n",
    "epochs = 20 # num of iterations\n",
    "\n",
    "# training loop:\n",
    "for epoch in range(epochs):\n",
    "    # forward pass to calculate predicted output\n",
    "    y_pred = forward(X) \n",
    "\n",
    "    # calculate the loss\n",
    "    loss = calculate_loss(Y, y_pred)\n",
    "\n",
    "    # calculate the gradient\n",
    "    dw = gradient(X, Y, y_pred)\n",
    "\n",
    "    # adjust weight\n",
    "    w -= learning_rate * dw\n",
    "\n",
    "    print(f\"epoch {epoch + 1}: w = {w:.3f}, loss = {loss:.3f}\")\n",
    "\n",
    "print(f\"Prediction after training: f(5) = {forward(5):.3f}\")"
   ]
  },
  {
   "cell_type": "markdown",
   "metadata": {},
   "source": [
    "Yay! Now it's a perfect `10.000`"
   ]
  }
 ],
 "metadata": {
  "kernelspec": {
   "display_name": "venv",
   "language": "python",
   "name": "python3"
  },
  "language_info": {
   "codemirror_mode": {
    "name": "ipython",
    "version": 3
   },
   "file_extension": ".py",
   "mimetype": "text/x-python",
   "name": "python",
   "nbconvert_exporter": "python",
   "pygments_lexer": "ipython3",
   "version": "3.12.2"
  }
 },
 "nbformat": 4,
 "nbformat_minor": 2
}
