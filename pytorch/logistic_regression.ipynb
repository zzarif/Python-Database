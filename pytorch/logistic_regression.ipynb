{
 "cells": [
  {
   "cell_type": "markdown",
   "metadata": {},
   "source": [
    "# Logistic Regression"
   ]
  },
  {
   "cell_type": "markdown",
   "metadata": {},
   "source": [
    "As usual three steps:\n",
    "1. Design model input/output size. `forward` pass\n",
    "2. Construct `loss` and `optimizer`\n",
    "3. Training loop\n",
    "    - `forward()` pass to calculate `y_pred`\n",
    "    - calculate `loss` from `y_pred` and `y`\n",
    "    - `backward()` pass to update weights"
   ]
  },
  {
   "cell_type": "code",
   "execution_count": 57,
   "metadata": {},
   "outputs": [],
   "source": [
    "import torch\n",
    "import torch.nn as nn\n",
    "import numpy as np\n",
    "from sklearn import datasets\n",
    "from sklearn.preprocessing import StandardScaler\n",
    "from sklearn.model_selection import train_test_split"
   ]
  },
  {
   "cell_type": "markdown",
   "metadata": {},
   "source": [
    "Prepare data"
   ]
  },
  {
   "cell_type": "code",
   "execution_count": 58,
   "metadata": {},
   "outputs": [],
   "source": [
    "bc = datasets.load_breast_cancer()\n",
    "X, y = bc.data, bc.target"
   ]
  },
  {
   "cell_type": "code",
   "execution_count": 59,
   "metadata": {},
   "outputs": [
    {
     "name": "stdout",
     "output_type": "stream",
     "text": [
      "30 569\n"
     ]
    }
   ],
   "source": [
    "n_samples, n_features = X.shape\n",
    "print(n_features, n_samples)"
   ]
  },
  {
   "cell_type": "code",
   "execution_count": 60,
   "metadata": {},
   "outputs": [],
   "source": [
    "X_train, X_test, y_train, y_test = train_test_split(X, y, test_size=0.2, random_state=1234)"
   ]
  },
  {
   "cell_type": "code",
   "execution_count": 61,
   "metadata": {},
   "outputs": [],
   "source": [
    "sc = StandardScaler()\n",
    "X_train = sc.fit_transform(X_train)\n",
    "X_test = sc.transform(X_test)"
   ]
  },
  {
   "cell_type": "code",
   "execution_count": 62,
   "metadata": {},
   "outputs": [],
   "source": [
    "X_train = torch.from_numpy(X_train.astype(np.float32))\n",
    "X_test = torch.from_numpy(X_test.astype(np.float32))\n",
    "y_train = torch.from_numpy(y_train.astype(np.float32))\n",
    "y_test = torch.from_numpy(y_test.astype(np.float32))"
   ]
  },
  {
   "cell_type": "code",
   "execution_count": 63,
   "metadata": {},
   "outputs": [],
   "source": [
    "y_train = y_train.view(y_train.shape[0], 1)\n",
    "y_test = y_test.view(y_test.shape[0], 1)"
   ]
  },
  {
   "cell_type": "markdown",
   "metadata": {},
   "source": [
    "#### Construct model\n",
    "f = wx + b, sigmoid at the end"
   ]
  },
  {
   "cell_type": "code",
   "execution_count": 64,
   "metadata": {},
   "outputs": [],
   "source": [
    "class LogisticRegresssion(nn.Module):\n",
    "\n",
    "    def __init__(self, n_input_features):\n",
    "        super(LogisticRegresssion, self).__init__()\n",
    "        self.linear = nn.Linear(n_input_features, 1)\n",
    "\n",
    "    def forward(self, x):\n",
    "        y_pred = torch.sigmoid(self.linear(x))\n",
    "        return y_pred"
   ]
  },
  {
   "cell_type": "code",
   "execution_count": 65,
   "metadata": {},
   "outputs": [],
   "source": [
    "model = LogisticRegresssion(n_features)"
   ]
  },
  {
   "cell_type": "markdown",
   "metadata": {},
   "source": [
    "#### Construct Loss and Optimizer"
   ]
  },
  {
   "cell_type": "code",
   "execution_count": 66,
   "metadata": {},
   "outputs": [],
   "source": [
    "learning_rate = 0.01\n",
    "criterion = nn.BCELoss()\n",
    "optimizer = torch.optim.SGD(model.parameters(), lr=learning_rate)"
   ]
  },
  {
   "cell_type": "markdown",
   "metadata": {},
   "source": [
    "#### Training Loop"
   ]
  },
  {
   "cell_type": "code",
   "execution_count": 67,
   "metadata": {},
   "outputs": [
    {
     "name": "stdout",
     "output_type": "stream",
     "text": [
      "epoch=1, loss=0.845\n",
      "epoch=2, loss=0.816\n",
      "epoch=3, loss=0.790\n",
      "epoch=4, loss=0.764\n",
      "epoch=5, loss=0.741\n",
      "epoch=6, loss=0.718\n",
      "epoch=7, loss=0.697\n",
      "epoch=8, loss=0.678\n",
      "epoch=9, loss=0.659\n",
      "epoch=10, loss=0.642\n",
      "epoch=11, loss=0.625\n",
      "epoch=12, loss=0.610\n",
      "epoch=13, loss=0.595\n",
      "epoch=14, loss=0.581\n",
      "epoch=15, loss=0.568\n",
      "epoch=16, loss=0.556\n",
      "epoch=17, loss=0.544\n",
      "epoch=18, loss=0.533\n",
      "epoch=19, loss=0.523\n",
      "epoch=20, loss=0.513\n",
      "epoch=21, loss=0.503\n",
      "epoch=22, loss=0.494\n",
      "epoch=23, loss=0.485\n",
      "epoch=24, loss=0.477\n",
      "epoch=25, loss=0.469\n",
      "epoch=26, loss=0.462\n",
      "epoch=27, loss=0.454\n",
      "epoch=28, loss=0.448\n",
      "epoch=29, loss=0.441\n",
      "epoch=30, loss=0.435\n",
      "epoch=31, loss=0.428\n",
      "epoch=32, loss=0.422\n",
      "epoch=33, loss=0.417\n",
      "epoch=34, loss=0.411\n",
      "epoch=35, loss=0.406\n",
      "epoch=36, loss=0.401\n",
      "epoch=37, loss=0.396\n",
      "epoch=38, loss=0.391\n",
      "epoch=39, loss=0.387\n",
      "epoch=40, loss=0.382\n",
      "epoch=41, loss=0.378\n",
      "epoch=42, loss=0.374\n",
      "epoch=43, loss=0.370\n",
      "epoch=44, loss=0.366\n",
      "epoch=45, loss=0.362\n",
      "epoch=46, loss=0.359\n",
      "epoch=47, loss=0.355\n",
      "epoch=48, loss=0.352\n",
      "epoch=49, loss=0.348\n",
      "epoch=50, loss=0.345\n",
      "epoch=51, loss=0.342\n",
      "epoch=52, loss=0.339\n",
      "epoch=53, loss=0.336\n",
      "epoch=54, loss=0.333\n",
      "epoch=55, loss=0.330\n",
      "epoch=56, loss=0.327\n",
      "epoch=57, loss=0.325\n",
      "epoch=58, loss=0.322\n",
      "epoch=59, loss=0.319\n",
      "epoch=60, loss=0.317\n",
      "epoch=61, loss=0.314\n",
      "epoch=62, loss=0.312\n",
      "epoch=63, loss=0.310\n",
      "epoch=64, loss=0.307\n",
      "epoch=65, loss=0.305\n",
      "epoch=66, loss=0.303\n",
      "epoch=67, loss=0.301\n",
      "epoch=68, loss=0.299\n",
      "epoch=69, loss=0.297\n",
      "epoch=70, loss=0.295\n",
      "epoch=71, loss=0.293\n",
      "epoch=72, loss=0.291\n",
      "epoch=73, loss=0.289\n",
      "epoch=74, loss=0.287\n",
      "epoch=75, loss=0.285\n",
      "epoch=76, loss=0.284\n",
      "epoch=77, loss=0.282\n",
      "epoch=78, loss=0.280\n",
      "epoch=79, loss=0.278\n",
      "epoch=80, loss=0.277\n",
      "epoch=81, loss=0.275\n",
      "epoch=82, loss=0.274\n",
      "epoch=83, loss=0.272\n",
      "epoch=84, loss=0.271\n",
      "epoch=85, loss=0.269\n",
      "epoch=86, loss=0.268\n",
      "epoch=87, loss=0.266\n",
      "epoch=88, loss=0.265\n",
      "epoch=89, loss=0.263\n",
      "epoch=90, loss=0.262\n",
      "epoch=91, loss=0.261\n",
      "epoch=92, loss=0.259\n",
      "epoch=93, loss=0.258\n",
      "epoch=94, loss=0.257\n",
      "epoch=95, loss=0.255\n",
      "epoch=96, loss=0.254\n",
      "epoch=97, loss=0.253\n",
      "epoch=98, loss=0.252\n",
      "epoch=99, loss=0.251\n",
      "epoch=100, loss=0.249\n"
     ]
    }
   ],
   "source": [
    "num_epochs = 100\n",
    "\n",
    "for epoch in range(num_epochs):\n",
    "\n",
    "    y_pred = model(X_train)\n",
    "\n",
    "    loss = criterion(y_pred, y_train)\n",
    "\n",
    "    loss.backward()\n",
    "\n",
    "    optimizer.step()\n",
    "\n",
    "    optimizer.zero_grad()\n",
    "\n",
    "    print(f\"epoch={epoch+1}, loss={loss.item():.3f}\")"
   ]
  },
  {
   "cell_type": "code",
   "execution_count": 68,
   "metadata": {},
   "outputs": [
    {
     "name": "stdout",
     "output_type": "stream",
     "text": [
      "accuracy = 0.8947\n"
     ]
    }
   ],
   "source": [
    "with torch.no_grad():\n",
    "    y_pred = model(X_test)\n",
    "    y_pred_cls = y_pred.round()\n",
    "    acc = y_pred_cls.eq(y_test).sum() / float(y_test.shape[0])\n",
    "    print(f\"accuracy = {acc:.4f}\")"
   ]
  }
 ],
 "metadata": {
  "kernelspec": {
   "display_name": "venv",
   "language": "python",
   "name": "python3"
  },
  "language_info": {
   "codemirror_mode": {
    "name": "ipython",
    "version": 3
   },
   "file_extension": ".py",
   "mimetype": "text/x-python",
   "name": "python",
   "nbconvert_exporter": "python",
   "pygments_lexer": "ipython3",
   "version": "3.12.2"
  }
 },
 "nbformat": 4,
 "nbformat_minor": 2
}
