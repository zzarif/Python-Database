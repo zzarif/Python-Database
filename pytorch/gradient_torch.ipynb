{
 "cells": [
  {
   "cell_type": "markdown",
   "metadata": {},
   "source": [
    "## Gradient with PyTorch"
   ]
  },
  {
   "cell_type": "code",
   "execution_count": 31,
   "metadata": {},
   "outputs": [],
   "source": [
    "import torch"
   ]
  },
  {
   "cell_type": "markdown",
   "metadata": {},
   "source": [
    "Initialize input, output tensors"
   ]
  },
  {
   "cell_type": "code",
   "execution_count": 32,
   "metadata": {},
   "outputs": [],
   "source": [
    "X = torch.tensor([1, 2, 3, 4], dtype=torch.float32)\n",
    "Y = torch.tensor([2, 4, 6, 8], dtype=torch.float32)"
   ]
  },
  {
   "cell_type": "markdown",
   "metadata": {},
   "source": [
    "This time `w` also has to be a tensor. Be sure to put `requires_grad=True` since we want pytorch to calculate the gradient associated with `w` automatically for us."
   ]
  },
  {
   "cell_type": "code",
   "execution_count": 33,
   "metadata": {},
   "outputs": [],
   "source": [
    "w = torch.tensor(0.0, dtype=torch.float32, requires_grad=True)"
   ]
  },
  {
   "cell_type": "markdown",
   "metadata": {},
   "source": [
    "This time we don't need to calculate `gradient()` ourselves. PyTroch will do that for us. Rest is same."
   ]
  },
  {
   "cell_type": "code",
   "execution_count": 34,
   "metadata": {},
   "outputs": [],
   "source": [
    "# model prediction\n",
    "def forward(x):\n",
    "    return w * x\n",
    "\n",
    "# loss = MSE\n",
    "def calculate_loss(y, y_pred):\n",
    "    return ((y - y_pred) ** 2).mean()"
   ]
  },
  {
   "cell_type": "code",
   "execution_count": 35,
   "metadata": {},
   "outputs": [
    {
     "name": "stdout",
     "output_type": "stream",
     "text": [
      "Prediction before training: f(5) = 0.000\n"
     ]
    }
   ],
   "source": [
    "print(f\"Prediction before training: f(5) = {forward(5):.3f}\")"
   ]
  },
  {
   "cell_type": "code",
   "execution_count": 36,
   "metadata": {},
   "outputs": [],
   "source": [
    "learning_rate = 0.01 # step size\n",
    "epochs = 20 # num of iterations"
   ]
  },
  {
   "cell_type": "markdown",
   "metadata": {},
   "source": [
    "In the training loop, instead of `gradient()` we will use `loss.backward()` to let PyTorch do the job for us."
   ]
  },
  {
   "cell_type": "code",
   "execution_count": 37,
   "metadata": {},
   "outputs": [
    {
     "name": "stdout",
     "output_type": "stream",
     "text": [
      "epoch 1: w = 0.300, loss = 30.000\n",
      "epoch 2: w = 0.555, loss = 21.675\n",
      "epoch 3: w = 0.772, loss = 15.660\n",
      "epoch 4: w = 0.956, loss = 11.314\n",
      "epoch 5: w = 1.113, loss = 8.175\n",
      "epoch 6: w = 1.246, loss = 5.906\n",
      "epoch 7: w = 1.359, loss = 4.267\n",
      "epoch 8: w = 1.455, loss = 3.083\n",
      "epoch 9: w = 1.537, loss = 2.228\n",
      "epoch 10: w = 1.606, loss = 1.609\n",
      "epoch 11: w = 1.665, loss = 1.163\n",
      "epoch 12: w = 1.716, loss = 0.840\n",
      "epoch 13: w = 1.758, loss = 0.607\n",
      "epoch 14: w = 1.794, loss = 0.439\n",
      "epoch 15: w = 1.825, loss = 0.317\n",
      "epoch 16: w = 1.851, loss = 0.229\n",
      "epoch 17: w = 1.874, loss = 0.165\n",
      "epoch 18: w = 1.893, loss = 0.119\n",
      "epoch 19: w = 1.909, loss = 0.086\n",
      "epoch 20: w = 1.922, loss = 0.062\n"
     ]
    }
   ],
   "source": [
    "# training loop:\n",
    "for epoch in range(epochs):\n",
    "    # forward pass to calculate predicted output\n",
    "    y_pred = forward(X) \n",
    "\n",
    "    # calculate the loss\n",
    "    loss = calculate_loss(Y, y_pred)\n",
    "\n",
    "    # gradient = backward pass\n",
    "    loss.backward()\n",
    "\n",
    "    # don't add this line into computational graph\n",
    "    with torch.no_grad():\n",
    "        w -= learning_rate * w.grad\n",
    "    \n",
    "    # before proceeding to the next loop\n",
    "    # reset the gradient to zero\n",
    "    # otherwise gradients will accumulate\n",
    "    # and carry over to the next loop\n",
    "    w.grad.zero_()\n",
    "\n",
    "    print(f\"epoch {epoch + 1}: w = {w:.3f}, loss = {loss:.3f}\")"
   ]
  },
  {
   "cell_type": "code",
   "execution_count": 38,
   "metadata": {},
   "outputs": [
    {
     "name": "stdout",
     "output_type": "stream",
     "text": [
      "Prediction after training: f(5) = 9.612\n"
     ]
    }
   ],
   "source": [
    "print(f\"Prediction after training: f(5) = {forward(5):.3f}\")"
   ]
  },
  {
   "cell_type": "markdown",
   "metadata": {},
   "source": [
    "Like before the prediction is very close, but not perfect.\n",
    "\n",
    "Solution: increase epochs!"
   ]
  },
  {
   "cell_type": "code",
   "execution_count": 39,
   "metadata": {},
   "outputs": [
    {
     "name": "stdout",
     "output_type": "stream",
     "text": [
      "epoch 1: w = 1.934, loss = 0.045\n",
      "epoch 2: w = 1.944, loss = 0.033\n",
      "epoch 3: w = 1.952, loss = 0.024\n",
      "epoch 4: w = 1.960, loss = 0.017\n",
      "epoch 5: w = 1.966, loss = 0.012\n",
      "epoch 6: w = 1.971, loss = 0.009\n",
      "epoch 7: w = 1.975, loss = 0.006\n",
      "epoch 8: w = 1.979, loss = 0.005\n",
      "epoch 9: w = 1.982, loss = 0.003\n",
      "epoch 10: w = 1.985, loss = 0.002\n",
      "epoch 11: w = 1.987, loss = 0.002\n",
      "epoch 12: w = 1.989, loss = 0.001\n",
      "epoch 13: w = 1.991, loss = 0.001\n",
      "epoch 14: w = 1.992, loss = 0.001\n",
      "epoch 15: w = 1.993, loss = 0.000\n",
      "epoch 16: w = 1.994, loss = 0.000\n",
      "epoch 17: w = 1.995, loss = 0.000\n",
      "epoch 18: w = 1.996, loss = 0.000\n",
      "epoch 19: w = 1.996, loss = 0.000\n",
      "epoch 20: w = 1.997, loss = 0.000\n",
      "epoch 21: w = 1.997, loss = 0.000\n",
      "epoch 22: w = 1.998, loss = 0.000\n",
      "epoch 23: w = 1.998, loss = 0.000\n",
      "epoch 24: w = 1.998, loss = 0.000\n",
      "epoch 25: w = 1.999, loss = 0.000\n",
      "epoch 26: w = 1.999, loss = 0.000\n",
      "epoch 27: w = 1.999, loss = 0.000\n",
      "epoch 28: w = 1.999, loss = 0.000\n",
      "epoch 29: w = 1.999, loss = 0.000\n",
      "epoch 30: w = 1.999, loss = 0.000\n",
      "epoch 31: w = 1.999, loss = 0.000\n",
      "epoch 32: w = 2.000, loss = 0.000\n",
      "epoch 33: w = 2.000, loss = 0.000\n",
      "epoch 34: w = 2.000, loss = 0.000\n",
      "epoch 35: w = 2.000, loss = 0.000\n",
      "epoch 36: w = 2.000, loss = 0.000\n",
      "epoch 37: w = 2.000, loss = 0.000\n",
      "epoch 38: w = 2.000, loss = 0.000\n",
      "epoch 39: w = 2.000, loss = 0.000\n",
      "epoch 40: w = 2.000, loss = 0.000\n",
      "epoch 41: w = 2.000, loss = 0.000\n",
      "epoch 42: w = 2.000, loss = 0.000\n",
      "epoch 43: w = 2.000, loss = 0.000\n",
      "epoch 44: w = 2.000, loss = 0.000\n",
      "epoch 45: w = 2.000, loss = 0.000\n",
      "epoch 46: w = 2.000, loss = 0.000\n",
      "epoch 47: w = 2.000, loss = 0.000\n",
      "epoch 48: w = 2.000, loss = 0.000\n",
      "epoch 49: w = 2.000, loss = 0.000\n",
      "epoch 50: w = 2.000, loss = 0.000\n",
      "epoch 51: w = 2.000, loss = 0.000\n",
      "epoch 52: w = 2.000, loss = 0.000\n",
      "epoch 53: w = 2.000, loss = 0.000\n",
      "epoch 54: w = 2.000, loss = 0.000\n",
      "epoch 55: w = 2.000, loss = 0.000\n",
      "epoch 56: w = 2.000, loss = 0.000\n",
      "epoch 57: w = 2.000, loss = 0.000\n",
      "epoch 58: w = 2.000, loss = 0.000\n",
      "epoch 59: w = 2.000, loss = 0.000\n",
      "epoch 60: w = 2.000, loss = 0.000\n",
      "epoch 61: w = 2.000, loss = 0.000\n",
      "epoch 62: w = 2.000, loss = 0.000\n",
      "epoch 63: w = 2.000, loss = 0.000\n",
      "epoch 64: w = 2.000, loss = 0.000\n",
      "epoch 65: w = 2.000, loss = 0.000\n",
      "epoch 66: w = 2.000, loss = 0.000\n",
      "epoch 67: w = 2.000, loss = 0.000\n",
      "epoch 68: w = 2.000, loss = 0.000\n",
      "epoch 69: w = 2.000, loss = 0.000\n",
      "epoch 70: w = 2.000, loss = 0.000\n",
      "epoch 71: w = 2.000, loss = 0.000\n",
      "epoch 72: w = 2.000, loss = 0.000\n",
      "epoch 73: w = 2.000, loss = 0.000\n",
      "epoch 74: w = 2.000, loss = 0.000\n",
      "epoch 75: w = 2.000, loss = 0.000\n",
      "epoch 76: w = 2.000, loss = 0.000\n",
      "epoch 77: w = 2.000, loss = 0.000\n",
      "epoch 78: w = 2.000, loss = 0.000\n",
      "epoch 79: w = 2.000, loss = 0.000\n",
      "epoch 80: w = 2.000, loss = 0.000\n",
      "epoch 81: w = 2.000, loss = 0.000\n",
      "epoch 82: w = 2.000, loss = 0.000\n",
      "epoch 83: w = 2.000, loss = 0.000\n",
      "epoch 84: w = 2.000, loss = 0.000\n",
      "epoch 85: w = 2.000, loss = 0.000\n",
      "epoch 86: w = 2.000, loss = 0.000\n",
      "epoch 87: w = 2.000, loss = 0.000\n",
      "epoch 88: w = 2.000, loss = 0.000\n",
      "epoch 89: w = 2.000, loss = 0.000\n",
      "epoch 90: w = 2.000, loss = 0.000\n",
      "epoch 91: w = 2.000, loss = 0.000\n",
      "epoch 92: w = 2.000, loss = 0.000\n",
      "epoch 93: w = 2.000, loss = 0.000\n",
      "epoch 94: w = 2.000, loss = 0.000\n",
      "epoch 95: w = 2.000, loss = 0.000\n",
      "epoch 96: w = 2.000, loss = 0.000\n",
      "epoch 97: w = 2.000, loss = 0.000\n",
      "epoch 98: w = 2.000, loss = 0.000\n",
      "epoch 99: w = 2.000, loss = 0.000\n",
      "epoch 100: w = 2.000, loss = 0.000\n",
      "Prediction after training: f(5) = 10.000\n"
     ]
    }
   ],
   "source": [
    "learning_rate = 0.01 # step size\n",
    "epochs = 100 # num of iterations\n",
    "\n",
    "# training loop:\n",
    "for epoch in range(epochs):\n",
    "    # forward pass to calculate predicted output\n",
    "    y_pred = forward(X) \n",
    "\n",
    "    # calculate the loss\n",
    "    loss = calculate_loss(Y, y_pred)\n",
    "\n",
    "    # gradient = backward pass\n",
    "    loss.backward()\n",
    "\n",
    "    # don't add this line into computational graph\n",
    "    with torch.no_grad():\n",
    "        w -= learning_rate * w.grad\n",
    "    \n",
    "    # before proceeding to the next loop\n",
    "    # reset the gradient to zero\n",
    "    # otherwise gradients will accumulate\n",
    "    # and carry over to the next loop\n",
    "    w.grad.zero_()\n",
    "\n",
    "    print(f\"epoch {epoch + 1}: w = {w:.3f}, loss = {loss:.3f}\")\n",
    "\n",
    "print(f\"Prediction after training: f(5) = {forward(5):.3f}\")"
   ]
  }
 ],
 "metadata": {
  "kernelspec": {
   "display_name": "venv",
   "language": "python",
   "name": "python3"
  },
  "language_info": {
   "codemirror_mode": {
    "name": "ipython",
    "version": 3
   },
   "file_extension": ".py",
   "mimetype": "text/x-python",
   "name": "python",
   "nbconvert_exporter": "python",
   "pygments_lexer": "ipython3",
   "version": "3.12.2"
  }
 },
 "nbformat": 4,
 "nbformat_minor": 2
}
