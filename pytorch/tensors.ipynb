{
 "cells": [
  {
   "cell_type": "code",
   "execution_count": 1,
   "metadata": {},
   "outputs": [],
   "source": [
    "import torch"
   ]
  },
  {
   "cell_type": "code",
   "execution_count": 2,
   "metadata": {},
   "outputs": [
    {
     "data": {
      "text/plain": [
       "tensor([[0.2673, 0.1811, 0.5807, 0.5528],\n",
       "        [0.9949, 0.1797, 0.1581, 0.2061],\n",
       "        [0.0740, 0.0654, 0.9874, 0.0095]])"
      ]
     },
     "execution_count": 2,
     "metadata": {},
     "output_type": "execute_result"
    }
   ],
   "source": [
    "x = torch.rand([3,4])\n",
    "x"
   ]
  },
  {
   "cell_type": "code",
   "execution_count": 3,
   "metadata": {},
   "outputs": [
    {
     "data": {
      "text/plain": [
       "tensor([[[1, 1, 1, 1, 1],\n",
       "         [1, 1, 1, 1, 1],\n",
       "         [1, 1, 1, 1, 1],\n",
       "         [1, 1, 1, 1, 1]],\n",
       "\n",
       "        [[1, 1, 1, 1, 1],\n",
       "         [1, 1, 1, 1, 1],\n",
       "         [1, 1, 1, 1, 1],\n",
       "         [1, 1, 1, 1, 1]]], dtype=torch.int32)"
      ]
     },
     "execution_count": 3,
     "metadata": {},
     "output_type": "execute_result"
    }
   ],
   "source": [
    "x = torch.ones([2,4,5], dtype=torch.int)\n",
    "x"
   ]
  },
  {
   "cell_type": "code",
   "execution_count": 4,
   "metadata": {},
   "outputs": [
    {
     "data": {
      "text/plain": [
       "torch.Size([2, 4, 5])"
      ]
     },
     "execution_count": 4,
     "metadata": {},
     "output_type": "execute_result"
    }
   ],
   "source": [
    "x.size()"
   ]
  },
  {
   "cell_type": "code",
   "execution_count": 15,
   "metadata": {},
   "outputs": [
    {
     "name": "stdout",
     "output_type": "stream",
     "text": [
      "tensor([[0.4834, 0.8997],\n",
      "        [0.0935, 0.4269]])\n",
      "tensor([[1., 2.],\n",
      "        [3., 4.]])\n",
      "tensor([[1.4834, 2.8997],\n",
      "        [3.0935, 4.4269]])\n",
      "tensor([[-0.5166, -1.1003],\n",
      "        [-2.9065, -3.5731]])\n",
      "tensor([[0.4834, 1.7994],\n",
      "        [0.2806, 1.7078]])\n",
      "tensor([[0.4834, 0.4499],\n",
      "        [0.0312, 0.1067]])\n",
      "tensor([[0., 0.],\n",
      "        [0., 0.]])\n"
     ]
    }
   ],
   "source": [
    "x = torch.rand([2,2])\n",
    "y = torch.tensor([[1., 2.],\n",
    "                  [3., 4.]])\n",
    "print(x)\n",
    "print(y)\n",
    "print(x + y)\n",
    "print(x - y)\n",
    "print(x * y)\n",
    "print(x / y)\n",
    "print(x // y)"
   ]
  },
  {
   "cell_type": "code",
   "execution_count": 16,
   "metadata": {},
   "outputs": [
    {
     "name": "stdout",
     "output_type": "stream",
     "text": [
      "tensor([[0.4834, 0.8997],\n",
      "        [0.0935, 0.4269]])\n",
      "tensor([[1., 2.],\n",
      "        [3., 4.]])\n",
      "tensor([[1.4834, 2.8997],\n",
      "        [3.0935, 4.4269]])\n",
      "tensor([[1., 2.],\n",
      "        [3., 4.]])\n"
     ]
    }
   ],
   "source": [
    "print(x)\n",
    "print(y)\n",
    "print(y.add(x))\n",
    "print(y)"
   ]
  },
  {
   "cell_type": "code",
   "execution_count": 17,
   "metadata": {},
   "outputs": [
    {
     "name": "stdout",
     "output_type": "stream",
     "text": [
      "tensor([[0.4834, 0.8997],\n",
      "        [0.0935, 0.4269]])\n",
      "tensor([[1., 2.],\n",
      "        [3., 4.]])\n",
      "tensor([[1.4834, 2.8997],\n",
      "        [3.0935, 4.4269]])\n",
      "tensor([[1.4834, 2.8997],\n",
      "        [3.0935, 4.4269]])\n"
     ]
    }
   ],
   "source": [
    "print(x)\n",
    "print(y)\n",
    "print(y.add_(x))\n",
    "print(y) # in place add, y changed"
   ]
  },
  {
   "cell_type": "code",
   "execution_count": 21,
   "metadata": {},
   "outputs": [
    {
     "name": "stdout",
     "output_type": "stream",
     "text": [
      "tensor([[0.7762, 0.4943, 0.7641],\n",
      "        [0.2069, 0.0629, 0.2495],\n",
      "        [0.1715, 0.0488, 0.9812],\n",
      "        [0.3359, 0.0802, 0.9957],\n",
      "        [0.5422, 0.5259, 0.2391]])\n",
      "tensor(0.4943)\n",
      "0.4942890405654907\n",
      "tensor([[0.4943, 0.7641],\n",
      "        [0.0629, 0.2495],\n",
      "        [0.0488, 0.9812],\n",
      "        [0.0802, 0.9957],\n",
      "        [0.5259, 0.2391]])\n",
      "tensor([0.4943, 0.0629, 0.0488, 0.0802, 0.5259])\n"
     ]
    }
   ],
   "source": [
    "x = torch.rand([5,3])\n",
    "print(x)\n",
    "print(x[0,1]) # get item\n",
    "print(x[0,1].item()) # value itself\n",
    "\n",
    "print(x[:,1:]) # 2d slicing\n",
    "print(x[:,1]) # 1d slicing"
   ]
  },
  {
   "cell_type": "code",
   "execution_count": 26,
   "metadata": {},
   "outputs": [
    {
     "name": "stdout",
     "output_type": "stream",
     "text": [
      "tensor([[0.9977, 0.8375, 0.5343, 0.9318],\n",
      "        [0.3550, 0.0146, 0.6865, 0.7605],\n",
      "        [0.5806, 0.6441, 0.8835, 0.0227],\n",
      "        [0.6587, 0.9419, 0.0788, 0.9637]])\n",
      "tensor([0.9977, 0.8375, 0.5343, 0.9318, 0.3550, 0.0146, 0.6865, 0.7605, 0.5806,\n",
      "        0.6441, 0.8835, 0.0227, 0.6587, 0.9419, 0.0788, 0.9637])\n",
      "tensor([[0.9977, 0.8375, 0.5343, 0.9318, 0.3550, 0.0146, 0.6865, 0.7605],\n",
      "        [0.5806, 0.6441, 0.8835, 0.0227, 0.6587, 0.9419, 0.0788, 0.9637]])\n"
     ]
    }
   ],
   "source": [
    "x = torch.rand([4,4])\n",
    "print(x)\n",
    "print(x.view([16]))\n",
    "print(x.view([-1,8]))"
   ]
  },
  {
   "cell_type": "code",
   "execution_count": 27,
   "metadata": {},
   "outputs": [],
   "source": [
    "import numpy as np"
   ]
  },
  {
   "cell_type": "code",
   "execution_count": 29,
   "metadata": {},
   "outputs": [
    {
     "name": "stdout",
     "output_type": "stream",
     "text": [
      "tensor([[1., 1.],\n",
      "        [1., 1.],\n",
      "        [1., 1.],\n",
      "        [1., 1.],\n",
      "        [1., 1.]])\n",
      "[[1. 1.]\n",
      " [1. 1.]\n",
      " [1. 1.]\n",
      " [1. 1.]\n",
      " [1. 1.]]\n",
      "tensor([[1.1130, 1.6049],\n",
      "        [1.3475, 1.3144],\n",
      "        [1.4007, 1.6358],\n",
      "        [1.2177, 1.3599],\n",
      "        [1.1473, 1.5748]])\n",
      "[[1.1130005 1.6049088]\n",
      " [1.3474811 1.3144455]\n",
      " [1.4006822 1.6357667]\n",
      " [1.2176868 1.3599203]\n",
      " [1.147335  1.5747514]]\n"
     ]
    }
   ],
   "source": [
    "a = torch.ones([5,2])\n",
    "print(a)\n",
    "\n",
    "b = a.numpy()  # tensor to numpy\n",
    "print(b)\n",
    "\n",
    "a.add_(torch.rand([5,2]))\n",
    "print(a)\n",
    "print(b)"
   ]
  },
  {
   "cell_type": "code",
   "execution_count": 30,
   "metadata": {},
   "outputs": [
    {
     "name": "stdout",
     "output_type": "stream",
     "text": [
      "[[1. 1.]\n",
      " [1. 1.]\n",
      " [1. 1.]\n",
      " [1. 1.]\n",
      " [1. 1.]]\n",
      "tensor([[1., 1.],\n",
      "        [1., 1.],\n",
      "        [1., 1.],\n",
      "        [1., 1.],\n",
      "        [1., 1.]], dtype=torch.float64)\n",
      "[[2. 2.]\n",
      " [2. 2.]\n",
      " [2. 2.]\n",
      " [2. 2.]\n",
      " [2. 2.]]\n",
      "tensor([[2., 2.],\n",
      "        [2., 2.],\n",
      "        [2., 2.],\n",
      "        [2., 2.],\n",
      "        [2., 2.]], dtype=torch.float64)\n"
     ]
    }
   ],
   "source": [
    "a = np.ones([5,2])\n",
    "print(a)\n",
    "\n",
    "b = torch.from_numpy(a)\n",
    "print(b)\n",
    "\n",
    "a += 1\n",
    "\n",
    "print(a)\n",
    "print(b)"
   ]
  },
  {
   "cell_type": "code",
   "execution_count": 31,
   "metadata": {},
   "outputs": [
    {
     "name": "stdout",
     "output_type": "stream",
     "text": [
      "tensor([[1., 1., 1., 1., 1.],\n",
      "        [1., 1., 1., 1., 1.]], device='cuda:0')\n"
     ]
    },
    {
     "ename": "TypeError",
     "evalue": "can't convert cuda:0 device type tensor to numpy. Use Tensor.cpu() to copy the tensor to host memory first.",
     "output_type": "error",
     "traceback": [
      "\u001b[1;31m---------------------------------------------------------------------------\u001b[0m",
      "\u001b[1;31mTypeError\u001b[0m                                 Traceback (most recent call last)",
      "Cell \u001b[1;32mIn[31], line 8\u001b[0m\n\u001b[0;32m      4\u001b[0m a \u001b[38;5;241m=\u001b[39m torch\u001b[38;5;241m.\u001b[39mones([\u001b[38;5;241m2\u001b[39m,\u001b[38;5;241m5\u001b[39m], device\u001b[38;5;241m=\u001b[39mdevice)\n\u001b[0;32m      6\u001b[0m \u001b[38;5;28mprint\u001b[39m(a)\n\u001b[1;32m----> 8\u001b[0m b \u001b[38;5;241m=\u001b[39m \u001b[43ma\u001b[49m\u001b[38;5;241;43m.\u001b[39;49m\u001b[43mnumpy\u001b[49m\u001b[43m(\u001b[49m\u001b[43m)\u001b[49m \u001b[38;5;66;03m# can't convert GPU based tensor to CPU based numpy\u001b[39;00m\n\u001b[0;32m      9\u001b[0m \u001b[38;5;28mprint\u001b[39m(b)\n",
      "\u001b[1;31mTypeError\u001b[0m: can't convert cuda:0 device type tensor to numpy. Use Tensor.cpu() to copy the tensor to host memory first."
     ]
    }
   ],
   "source": [
    "torch.cuda.is_available()\n",
    "device = torch.device(\"cuda\") # tensor on GPU\n",
    "\n",
    "a = torch.ones([2,5], device=device)\n",
    "\n",
    "print(a)\n",
    "\n",
    "b = a.numpy() # can't convert GPU based tensor to CPU based numpy\n",
    "print(b)"
   ]
  },
  {
   "cell_type": "code",
   "execution_count": 32,
   "metadata": {},
   "outputs": [
    {
     "name": "stdout",
     "output_type": "stream",
     "text": [
      "tensor([[1., 1., 1., 1., 1.],\n",
      "        [1., 1., 1., 1., 1.]], device='cuda:0')\n"
     ]
    },
    {
     "ename": "TypeError",
     "evalue": "can't convert cuda:0 device type tensor to numpy. Use Tensor.cpu() to copy the tensor to host memory first.",
     "output_type": "error",
     "traceback": [
      "\u001b[1;31m---------------------------------------------------------------------------\u001b[0m",
      "\u001b[1;31mTypeError\u001b[0m                                 Traceback (most recent call last)",
      "Cell \u001b[1;32mIn[32], line 6\u001b[0m\n\u001b[0;32m      3\u001b[0m \u001b[38;5;28mprint\u001b[39m(a)\n\u001b[0;32m      5\u001b[0m \u001b[38;5;66;03m# a = a.to(\"cpu\")\u001b[39;00m\n\u001b[1;32m----> 6\u001b[0m b \u001b[38;5;241m=\u001b[39m \u001b[43ma\u001b[49m\u001b[38;5;241;43m.\u001b[39;49m\u001b[43mnumpy\u001b[49m\u001b[43m(\u001b[49m\u001b[43m)\u001b[49m\n\u001b[0;32m      7\u001b[0m \u001b[38;5;28mprint\u001b[39m(b)\n",
      "\u001b[1;31mTypeError\u001b[0m: can't convert cuda:0 device type tensor to numpy. Use Tensor.cpu() to copy the tensor to host memory first."
     ]
    }
   ],
   "source": [
    "a = torch.ones([2,5])\n",
    "a = a.to(device) # can't convert GPU based tensor to CPU based numpy\n",
    "print(a)\n",
    "\n",
    "# a = a.to(\"cpu\")\n",
    "b = a.numpy()\n",
    "print(b)"
   ]
  },
  {
   "cell_type": "code",
   "execution_count": 33,
   "metadata": {},
   "outputs": [
    {
     "name": "stdout",
     "output_type": "stream",
     "text": [
      "tensor([[1., 1., 1., 1., 1.],\n",
      "        [1., 1., 1., 1., 1.]], device='cuda:0')\n",
      "[[1. 1. 1. 1. 1.]\n",
      " [1. 1. 1. 1. 1.]]\n"
     ]
    }
   ],
   "source": [
    "a = torch.ones([2,5])\n",
    "a = a.to(device)\n",
    "print(a)\n",
    "\n",
    "a = a.to(\"cpu\") # convert back to CPU\n",
    "b = a.numpy()\n",
    "print(b)"
   ]
  }
 ],
 "metadata": {
  "kernelspec": {
   "display_name": "venv",
   "language": "python",
   "name": "python3"
  },
  "language_info": {
   "codemirror_mode": {
    "name": "ipython",
    "version": 3
   },
   "file_extension": ".py",
   "mimetype": "text/x-python",
   "name": "python",
   "nbconvert_exporter": "python",
   "pygments_lexer": "ipython3",
   "version": "3.12.2"
  }
 },
 "nbformat": 4,
 "nbformat_minor": 2
}
