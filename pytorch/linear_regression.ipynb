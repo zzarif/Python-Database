{
 "cells": [
  {
   "cell_type": "code",
   "execution_count": 1,
   "metadata": {},
   "outputs": [],
   "source": [
    "import torch\n",
    "import torch.nn as nn\n",
    "import numpy as np\n",
    "from sklearn import datasets\n",
    "import matplotlib.pyplot as plt"
   ]
  },
  {
   "cell_type": "markdown",
   "metadata": {},
   "source": [
    "#### Step 0: Prepare data"
   ]
  },
  {
   "cell_type": "code",
   "execution_count": 2,
   "metadata": {},
   "outputs": [],
   "source": [
    "X_numpy, y_numpy = datasets.make_regression(n_samples=100, n_features=1, noise=20, random_state=1)\n",
    "\n",
    "X_train = torch.from_numpy(X_numpy.astype(np.float32))\n",
    "y_train = torch.from_numpy(y_numpy.astype(np.float32))\n",
    "\n",
    "y_train = y_train.view(y_train.shape[0], 1)\n",
    "\n",
    "n_samples, n_features = X_train.shape"
   ]
  },
  {
   "cell_type": "markdown",
   "metadata": {},
   "source": [
    "#### Step 1: Construct the model"
   ]
  },
  {
   "cell_type": "code",
   "execution_count": 3,
   "metadata": {},
   "outputs": [],
   "source": [
    "input_size = n_features\n",
    "output_size = 1\n",
    "model = nn.Linear(input_size, output_size)"
   ]
  },
  {
   "cell_type": "markdown",
   "metadata": {},
   "source": [
    "#### Step 2: Loss and Optimizer"
   ]
  },
  {
   "cell_type": "code",
   "execution_count": 4,
   "metadata": {},
   "outputs": [],
   "source": [
    "learning_rate = 0.01\n",
    "criterion = nn.MSELoss()\n",
    "optimizer = torch.optim.SGD(model.parameters(), lr=learning_rate)"
   ]
  },
  {
   "cell_type": "markdown",
   "metadata": {},
   "source": [
    "#### Step 3: Training loop"
   ]
  },
  {
   "cell_type": "code",
   "execution_count": 5,
   "metadata": {},
   "outputs": [
    {
     "name": "stdout",
     "output_type": "stream",
     "text": [
      "epoch 1: w = 1.665, loss = 5685.05127\n",
      "epoch 2: w = 2.942, loss = 5515.47559\n",
      "epoch 3: w = 4.198, loss = 5351.32080\n",
      "epoch 4: w = 5.434, loss = 5192.41309\n",
      "epoch 5: w = 6.650, loss = 5038.58203\n",
      "epoch 6: w = 7.847, loss = 4889.66455\n",
      "epoch 7: w = 9.025, loss = 4745.50000\n",
      "epoch 8: w = 10.184, loss = 4605.93701\n",
      "epoch 9: w = 11.325, loss = 4470.82617\n",
      "epoch 10: w = 12.448, loss = 4340.02490\n",
      "epoch 11: w = 13.553, loss = 4213.39307\n",
      "epoch 12: w = 14.640, loss = 4090.79688\n",
      "epoch 13: w = 15.710, loss = 3972.10718\n",
      "epoch 14: w = 16.763, loss = 3857.19727\n",
      "epoch 15: w = 17.800, loss = 3745.94531\n",
      "epoch 16: w = 18.820, loss = 3638.23438\n",
      "epoch 17: w = 19.823, loss = 3533.95020\n",
      "epoch 18: w = 20.811, loss = 3432.98340\n",
      "epoch 19: w = 21.783, loss = 3335.22656\n",
      "epoch 20: w = 22.740, loss = 3240.57690\n",
      "epoch 21: w = 23.682, loss = 3148.93457\n",
      "epoch 22: w = 24.608, loss = 3060.20337\n",
      "epoch 23: w = 25.520, loss = 2974.28979\n",
      "epoch 24: w = 26.418, loss = 2891.10352\n",
      "epoch 25: w = 27.301, loss = 2810.55688\n",
      "epoch 26: w = 28.170, loss = 2732.56567\n",
      "epoch 27: w = 29.026, loss = 2657.04785\n",
      "epoch 28: w = 29.868, loss = 2583.92432\n",
      "epoch 29: w = 30.696, loss = 2513.11841\n",
      "epoch 30: w = 31.512, loss = 2444.55566\n",
      "epoch 31: w = 32.314, loss = 2378.16528\n",
      "epoch 32: w = 33.104, loss = 2313.87695\n",
      "epoch 33: w = 33.882, loss = 2251.62402\n",
      "epoch 34: w = 34.647, loss = 2191.34106\n",
      "epoch 35: w = 35.400, loss = 2132.96558\n",
      "epoch 36: w = 36.141, loss = 2076.43604\n",
      "epoch 37: w = 36.870, loss = 2021.69470\n",
      "epoch 38: w = 37.588, loss = 1968.68347\n",
      "epoch 39: w = 38.294, loss = 1917.34753\n",
      "epoch 40: w = 38.989, loss = 1867.63354\n",
      "epoch 41: w = 39.673, loss = 1819.48950\n",
      "epoch 42: w = 40.347, loss = 1772.86609\n",
      "epoch 43: w = 41.009, loss = 1727.71411\n",
      "epoch 44: w = 41.662, loss = 1683.98730\n",
      "epoch 45: w = 42.304, loss = 1641.63965\n",
      "epoch 46: w = 42.935, loss = 1600.62817\n",
      "epoch 47: w = 43.557, loss = 1560.91003\n",
      "epoch 48: w = 44.169, loss = 1522.44373\n",
      "epoch 49: w = 44.771, loss = 1485.18970\n",
      "epoch 50: w = 45.364, loss = 1449.10974\n",
      "epoch 51: w = 45.947, loss = 1414.16638\n",
      "epoch 52: w = 46.522, loss = 1380.32312\n",
      "epoch 53: w = 47.087, loss = 1347.54578\n",
      "epoch 54: w = 47.643, loss = 1315.79980\n",
      "epoch 55: w = 48.190, loss = 1285.05322\n",
      "epoch 56: w = 48.729, loss = 1255.27380\n",
      "epoch 57: w = 49.259, loss = 1226.43115\n",
      "epoch 58: w = 49.781, loss = 1198.49548\n",
      "epoch 59: w = 50.295, loss = 1171.43799\n",
      "epoch 60: w = 50.800, loss = 1145.23096\n",
      "epoch 61: w = 51.298, loss = 1119.84729\n",
      "epoch 62: w = 51.787, loss = 1095.26111\n",
      "epoch 63: w = 52.269, loss = 1071.44714\n",
      "epoch 64: w = 52.744, loss = 1048.38098\n",
      "epoch 65: w = 53.211, loss = 1026.03906\n",
      "epoch 66: w = 53.670, loss = 1004.39813\n",
      "epoch 67: w = 54.122, loss = 983.43658\n",
      "epoch 68: w = 54.567, loss = 963.13245\n",
      "epoch 69: w = 55.005, loss = 943.46521\n",
      "epoch 70: w = 55.437, loss = 924.41479\n",
      "epoch 71: w = 55.861, loss = 905.96143\n",
      "epoch 72: w = 56.279, loss = 888.08667\n",
      "epoch 73: w = 56.690, loss = 870.77203\n",
      "epoch 74: w = 57.094, loss = 853.99982\n",
      "epoch 75: w = 57.493, loss = 837.75299\n",
      "epoch 76: w = 57.885, loss = 822.01501\n",
      "epoch 77: w = 58.270, loss = 806.76990\n",
      "epoch 78: w = 58.650, loss = 792.00189\n",
      "epoch 79: w = 59.024, loss = 777.69617\n",
      "epoch 80: w = 59.392, loss = 763.83838\n",
      "epoch 81: w = 59.754, loss = 750.41382\n",
      "epoch 82: w = 60.110, loss = 737.40924\n",
      "epoch 83: w = 60.461, loss = 724.81134\n",
      "epoch 84: w = 60.806, loss = 712.60742\n",
      "epoch 85: w = 61.146, loss = 700.78510\n",
      "epoch 86: w = 61.480, loss = 689.33221\n",
      "epoch 87: w = 61.809, loss = 678.23706\n",
      "epoch 88: w = 62.133, loss = 667.48883\n",
      "epoch 89: w = 62.452, loss = 657.07611\n",
      "epoch 90: w = 62.766, loss = 646.98865\n",
      "epoch 91: w = 63.075, loss = 637.21631\n",
      "epoch 92: w = 63.379, loss = 627.74908\n",
      "epoch 93: w = 63.678, loss = 618.57721\n",
      "epoch 94: w = 63.973, loss = 609.69153\n",
      "epoch 95: w = 64.263, loss = 601.08337\n",
      "epoch 96: w = 64.548, loss = 592.74347\n",
      "epoch 97: w = 64.829, loss = 584.66382\n",
      "epoch 98: w = 65.105, loss = 576.83606\n",
      "epoch 99: w = 65.377, loss = 569.25244\n",
      "epoch 100: w = 65.645, loss = 561.90521\n"
     ]
    }
   ],
   "source": [
    "num_epochs = 100\n",
    "for epoch in range(num_epochs):\n",
    "    # forward pass: get prediction\n",
    "    y_pred = model(X_train)\n",
    "\n",
    "    # calculate loss\n",
    "    loss = criterion(y_pred, y_train)\n",
    "\n",
    "    # backward pass: calculate gradients\n",
    "    loss.backward()\n",
    "\n",
    "    # optimize the params\n",
    "    optimizer.step()\n",
    "\n",
    "    # reset the gradients for next epoch\n",
    "    optimizer.zero_grad()\n",
    "\n",
    "    # print the params\n",
    "    [w, b] = model.parameters()\n",
    "    print(f\"epoch {epoch + 1}: w = {w[0][0].item():.3f}, loss = {loss.item():.5f}\")"
   ]
  },
  {
   "cell_type": "markdown",
   "metadata": {},
   "source": [
    "Let's plot the graph"
   ]
  },
  {
   "cell_type": "code",
   "execution_count": 6,
   "metadata": {},
   "outputs": [
    {
     "data": {
      "image/png": "[encoded data removed]",
      "text/plain": [
       "<Figure size 640x480 with 1 Axes>"
      ]
     },
     "metadata": {},
     "output_type": "display_data"
    }
   ],
   "source": [
    "predicted = model(X_train).detach() # don't track on comp. graph\n",
    "plt.plot(X_numpy, y_numpy, 'ro')\n",
    "plt.plot(X_numpy, predicted, 'b')\n",
    "plt.show()"
   ]
  }
 ],
 "metadata": {
  "kernelspec": {
   "display_name": "venv",
   "language": "python",
   "name": "python3"
  },
  "language_info": {
   "codemirror_mode": {
    "name": "ipython",
    "version": 3
   },
   "file_extension": ".py",
   "mimetype": "text/x-python",
   "name": "python",
   "nbconvert_exporter": "python",
   "pygments_lexer": "ipython3",
   "version": "3.12.2"
  }
 },
 "nbformat": 4,
 "nbformat_minor": 2
}
